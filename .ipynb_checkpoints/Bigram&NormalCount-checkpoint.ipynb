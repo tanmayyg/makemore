{
 "cells": [
  {
   "cell_type": "code",
   "execution_count": 177,
   "id": "97c0aade-e3ac-4ca7-b3b0-34ad37733aef",
   "metadata": {},
   "outputs": [],
   "source": [
    "import csv\n",
    "import numpy as np\n",
    "import torch\n",
    "import matplotlib.pyplot as plt\n",
    "import torch.nn.functional as F"
   ]
  },
  {
   "cell_type": "code",
   "execution_count": 46,
   "id": "6873c402-d71f-4b04-9eb7-ac3280abef89",
   "metadata": {},
   "outputs": [],
   "source": [
    "names = []\n",
    "chars = set()\n",
    "with open('./Dataset-Indian-Names-master/Indian_Names.csv','r') as f:\n",
    "    lines = csv.reader(f)\n",
    "    # lines = f.readlines()\n",
    "    header = next(lines)\n",
    "    for row in lines:\n",
    "        name = row[1].lower()\n",
    "        f=0\n",
    "        for char in name:\n",
    "            if not char>='a' and char <='z':\n",
    "                # print(name)\n",
    "                f=1\n",
    "                break\n",
    "            chars.add(char)\n",
    "        if f==0:\n",
    "            names.append(name)"
   ]
  },
  {
   "cell_type": "code",
   "execution_count": 37,
   "id": "37382c2f-0c25-4948-8e70-a95c72387b8d",
   "metadata": {},
   "outputs": [],
   "source": [
    "chars = sorted(chars)"
   ]
  },
  {
   "cell_type": "code",
   "execution_count": 42,
   "id": "b3774295-39ca-4ab4-bd34-c080be233740",
   "metadata": {},
   "outputs": [],
   "source": [
    "itos = {i+1:ch for i,ch in enumerate(chars)}\n",
    "itos[0] = '.'\n",
    "\n",
    "stoi = {ch:i for i,ch in itos.items()}"
   ]
  },
  {
   "cell_type": "code",
   "execution_count": 157,
   "id": "27613479-5d69-4a8a-bfbf-f559a4bb554d",
   "metadata": {},
   "outputs": [],
   "source": [
    "cnt_matrix = torch.zeros(len(itos), len(itos), dtype=torch.int32)\n",
    "for name in names:\n",
    "    newname = f'.{name}.'\n",
    "    for i,j in zip(newname,newname[1:]):\n",
    "        cnt_matrix[stoi[i]][stoi[j]] +=1"
   ]
  },
  {
   "cell_type": "code",
   "execution_count": 158,
   "id": "53f55fdd-b6c5-4397-a28a-4ed94220d498",
   "metadata": {},
   "outputs": [
    {
     "data": {
      "text/plain": [
       "tensor([[   0,  586,  398,  140,  296,   18,  107,  228,  196,  100,  297,  378,\n",
       "          125,  549,  361,   29,  377,    0,  548, 1217,  178,   58,  182,   17,\n",
       "            0,   57,   25],\n",
       "        [1552,  150,  233,   32,  226,    9,   67,  106,  223,  182,  289,  252,\n",
       "          549,  658, 1402,    1,   51,    9,  932,  403,  382,   60,  163,   74,\n",
       "           14,  142,  103],\n",
       "        [  80,  260,   30,    1,    4,   50,    0,    0,  240,  168,    6,    0,\n",
       "            6,    0,    5,   23,    1,    0,   30,    8,    0,   71,    0,    2,\n",
       "            0,    8,    1],\n",
       "        [   2,    7,    0,    6,    0,    6,    0,    0,  259,    1,    0,   12,\n",
       "            0,    0,    0,    3,    0,    0,    0,    0,    1,    1,    0,    0,\n",
       "            0,    4,    0],\n",
       "        [ 191,  230,    2,    0,   73,  312,    0,    1,  211,  200,    0,    4,\n",
       "            2,    5,    9,   20,    2,    0,  102,    4,    3,   65,    4,    5,\n",
       "            0,    9,    0],\n",
       "        [  94,    6,   19,    2,   34,  502,    7,   18,   60,    4,   16,   47,\n",
       "           70,   82,  318,    2,   61,    0,  306,  241,  173,    1,   71,    8,\n",
       "            0,   24,    6],\n",
       "        [  33,  107,    0,    0,    0,   11,    5,    0,    3,   39,    2,    0,\n",
       "            1,    0,    0,   15,    0,    0,   15,   13,    7,   12,    0,    0,\n",
       "            0,    0,    2],\n",
       "        [  17,  126,    1,    1,   12,   37,    0,    3,   48,   54,    3,    1,\n",
       "            6,    4,    5,   41,    3,    0,   15,    1,    6,   99,    5,    9,\n",
       "            0,   15,    0],\n",
       "        [ 406, 1169,   29,    3,   10,  155,    5,    5,   32,  421,   10,   14,\n",
       "           17,   54,   64,  108,   19,    1,   87,   25,   24,  209,   20,   50,\n",
       "            0,   34,    5],\n",
       "        [ 919,   39,   69,   24,  119,   13,   30,    9,   15,    3,   54,  147,\n",
       "          188,  166,  478,    2,   51,   14,  273,  285,  263,    3,   42,   17,\n",
       "            1,  123,   14],\n",
       "        [ 123,  343,    6,    0,    5,  112,    0,    1,   26,  122,   12,    9,\n",
       "            7,   16,   17,   38,    8,    0,   16,    3,    1,   66,    6,    8,\n",
       "            0,    6,    0],\n",
       "        [  96,  400,    5,    8,    0,   75,    0,    0,  169,  132,    1,   22,\n",
       "            8,    8,    3,   26,    1,    0,   42,   58,    7,  118,    1,    0,\n",
       "            1,   15,    0],\n",
       "        [ 394,  383,   12,    8,   13,   87,   10,    1,    2,  169,   13,   21,\n",
       "           53,   16,    6,   34,   11,    0,    6,   23,   13,   44,   11,   14,\n",
       "            0,   19,    0],\n",
       "        [ 345,  629,   33,    9,   18,  153,    1,    1,    6,  210,   25,   15,\n",
       "           29,   24,   17,  107,   41,    0,   49,   31,   17,  141,   20,    5,\n",
       "            0,    4,    3],\n",
       "        [ 627,  712,    9,   30,  402,  115,    2,   74,   13,  324,   94,   95,\n",
       "           12,   15,   65,   66,   17,    0,    7,   86,  154,  106,   18,   23,\n",
       "            0,   26,    2],\n",
       "        [  80,    4,   30,    6,   35,    0,    3,   19,   68,    7,   28,   31,\n",
       "           60,   58,   65,  129,   26,    1,   70,   65,   49,   19,    8,    4,\n",
       "            0,   15,   10],\n",
       "        [  53,  316,    0,    1,    0,   44,    0,    0,   29,   41,    0,    1,\n",
       "            5,    1,   10,   15,    9,    0,  154,    7,    9,   65,    1,    0,\n",
       "            0,   10,    0],\n",
       "        [  11,    2,    1,    0,    0,    0,    0,    0,    1,    1,    0,    0,\n",
       "            0,    0,    0,    1,    0,    0,    3,    1,    0,    5,    0,    0,\n",
       "            0,    0,    0],\n",
       "        [ 574, 1011,   35,    7,   37,  180,   10,   23,   17,  395,   54,   31,\n",
       "            9,   79,   30,   88,   25,    0,    8,   71,   52,  161,   44,   13,\n",
       "            0,   21,    3],\n",
       "        [  55,  602,    9,    3,    0,   67,    2,    3, 1233,  183,    2,   13,\n",
       "           14,   41,   19,   83,   14,    0,   32,   10,   40,  257,    9,   40,\n",
       "            0,    9,    0],\n",
       "        [ 301,  387,    3,    0,    0,   62,    0,    0,  102,  279,    1,    8,\n",
       "           11,    5,   14,   37,    4,    0,   64,    3,   31,   77,    4,   12,\n",
       "            0,   43,    0],\n",
       "        [ 287,    5,   67,   19,  159,    1,   15,   19,   17,    4,   37,   87,\n",
       "          182,  130,  178,    0,   46,    1,  193,  176,   26,    2,   16,    5,\n",
       "            1,    0,    5],\n",
       "        [  60,  136,    1,    1,    4,  120,    1,    1,    1,  246,    4,    7,\n",
       "            6,    1,   12,    0,    2,    0,   10,    0,    5,    3,    3,    0,\n",
       "            0,    7,    0],\n",
       "        [   2,  232,    0,    0,    2,   26,    0,    0,    1,   24,    1,    0,\n",
       "            2,    0,    5,    0,    0,    0,    8,    2,    2,    2,    0,    0,\n",
       "            0,    0,    0],\n",
       "        [   1,    2,    0,    0,    0,    0,    0,    0,    0,    4,    0,    0,\n",
       "            0,    8,    1,    0,    0,    0,    0,    0,    0,    0,    0,    0,\n",
       "            0,    1,    0],\n",
       "        [ 119,  371,    1,    1,    5,   12,    0,    0,    1,    6,    2,    1,\n",
       "            1,    5,    8,   20,    2,    0,    2,    7,    5,   23,    2,    0,\n",
       "            0,    0,    0],\n",
       "        [  45,   49,    1,    0,    0,    5,    0,    0,    3,   42,    0,    0,\n",
       "            0,    8,    2,    2,    0,    0,    6,    0,    0,   10,    1,    3,\n",
       "            0,    2,    0]], dtype=torch.int32)"
      ]
     },
     "execution_count": 158,
     "metadata": {},
     "output_type": "execute_result"
    }
   ],
   "source": [
    "cnt_matrix"
   ]
  },
  {
   "cell_type": "code",
   "execution_count": 148,
   "id": "46e83faa-8da7-4341-93ab-b9de4687064e",
   "metadata": {},
   "outputs": [],
   "source": [
    "# plt.figure(figsize=(13,13))\n",
    "# plt.imshow(cnt_matrix, cmap='Blues')\n",
    "# for i in range(27):\n",
    "#     for j in range(27):\n",
    "#         chstr = itos[i] + itos[j]\n",
    "#         plt.text(j, i, chstr, ha=\"center\", va=\"bottom\", color='gray')\n",
    "#         plt.text(j, i, cnt_matrix[i, j].item(), ha=\"center\", va=\"top\", color='gray')\n",
    "# plt.axis('off');"
   ]
  },
  {
   "cell_type": "code",
   "execution_count": 149,
   "id": "5df5b49e-453b-41cc-8872-a7d4718cbfe2",
   "metadata": {},
   "outputs": [],
   "source": [
    "# cnt_matrix += 1\n",
    "cnt_matrix = cnt_matrix + 1"
   ]
  },
  {
   "cell_type": "code",
   "execution_count": null,
   "id": "02d59300-f040-4406-8cbd-4acff094be3e",
   "metadata": {},
   "outputs": [],
   "source": []
  },
  {
   "cell_type": "code",
   "execution_count": 159,
   "id": "d356b6f7-402d-410c-b983-3ee826ed8060",
   "metadata": {},
   "outputs": [],
   "source": [
    "probab_matrix = (cnt_matrix + 1)/torch.sum((cnt_matrix +1),1, keepdim=True)"
   ]
  },
  {
   "cell_type": "code",
   "execution_count": 333,
   "id": "6a483fd3-266e-4c4c-b926-86a3d5592adb",
   "metadata": {},
   "outputs": [],
   "source": [
    "g = torch.Generator().manual_seed(2147483647)"
   ]
  },
  {
   "cell_type": "code",
   "execution_count": 334,
   "id": "2bcc6e02-98c5-4ef0-b20c-e377227d2ab7",
   "metadata": {},
   "outputs": [
    {
     "name": "stdout",
     "output_type": "stream",
     "text": [
      "deeba\n",
      "momakuraropritahampanimjanainjakadk\n",
      "ka\n",
      "da\n",
      "samitabhjabhr\n",
      "gotashishishanau\n",
      "ka\n",
      "teda\n",
      "ka\n",
      "hakamsade\n"
     ]
    }
   ],
   "source": [
    "for _ in range(10):\n",
    "    ch = 0\n",
    "    str_ = \"\"\n",
    "    while True:\n",
    "        ch = torch.multinomial(probab_matrix[ch], replacement = True,num_samples=1, generator = g).item()\n",
    "        if ch == 0:\n",
    "            break\n",
    "        str_= str_ + itos[ch]\n",
    "    print(str_)\n",
    "    "
   ]
  },
  {
   "cell_type": "code",
   "execution_count": 162,
   "id": "96e4d19f-2f42-41b3-971e-72ab63b3b12c",
   "metadata": {},
   "outputs": [
    {
     "name": "stdout",
     "output_type": "stream",
     "text": [
      "log_likelihood=tensor(-25.2468)\n",
      "nll=tensor(25.2468)\n",
      "3.155845880508423\n"
     ]
    }
   ],
   "source": [
    "log_likelihood = 0.0\n",
    "cnt = 0\n",
    "\n",
    "for name in ['tanmayy']:\n",
    "    newname = f'.{name}.'\n",
    "    for i,j in zip(newname,newname[1:]):\n",
    "        log_likelihood += torch.log(probab_matrix[stoi[i]][stoi[j]])\n",
    "        cnt += 1\n",
    "\n",
    "print(f'{log_likelihood=}')\n",
    "nll = -log_likelihood\n",
    "print(f'{nll=}')\n",
    "print(f'{nll/cnt}')"
   ]
  },
  {
   "cell_type": "markdown",
   "id": "0ca2061c-3909-4330-8c40-eddcf50b13ca",
   "metadata": {},
   "source": [
    "## Creating Bigram"
   ]
  },
  {
   "cell_type": "code",
   "execution_count": 172,
   "id": "da97daef-9ee6-440b-b625-63b1e43ed991",
   "metadata": {},
   "outputs": [],
   "source": [
    "xs = []\n",
    "ys = []\n",
    "\n",
    "for name in names:\n",
    "    newname = f'.{name}.'\n",
    "    for i,j in zip(newname,newname[1:]):\n",
    "        xs.append(stoi[i])\n",
    "        ys.append(stoi[j])\n",
    "\n",
    "xs = torch.tensor(xs)\n",
    "ys = torch.tensor(ys)"
   ]
  },
  {
   "cell_type": "code",
   "execution_count": 165,
   "id": "d2e11992-d732-4a2a-9d64-95694180d7a8",
   "metadata": {},
   "outputs": [],
   "source": [
    "# xs"
   ]
  },
  {
   "cell_type": "code",
   "execution_count": 186,
   "id": "e417a034-9489-44f7-b526-eb10e25e9527",
   "metadata": {},
   "outputs": [],
   "source": [
    "# xs_oh = F.one_hot(xs)"
   ]
  },
  {
   "cell_type": "code",
   "execution_count": 368,
   "id": "411387b4-4cf8-490e-a43c-1d7dc7ef427d",
   "metadata": {},
   "outputs": [],
   "source": [
    "# randomly initialize 27 neurons' weights. each neuron receives 27 inputs\n",
    "g = torch.Generator().manual_seed(2147483647)\n",
    "W = torch.randn((27, 27), generator=g,requires_grad=True)"
   ]
  },
  {
   "cell_type": "code",
   "execution_count": 369,
   "id": "31d6e17b-5633-4348-b42a-b8e53a458a4a",
   "metadata": {},
   "outputs": [],
   "source": [
    "# y_pred = xs_oh.float() @ w"
   ]
  },
  {
   "cell_type": "code",
   "execution_count": 378,
   "id": "7ce5c3ce-c712-45f9-8394-30073d7b9e71",
   "metadata": {},
   "outputs": [
    {
     "name": "stdout",
     "output_type": "stream",
     "text": [
      "Loss = 2.3934316635131836\n",
      "Loss = 2.3931963443756104\n",
      "Loss = 2.392967700958252\n",
      "Loss = 2.39274525642395\n",
      "Loss = 2.392529249191284\n",
      "Loss = 2.3923189640045166\n",
      "Loss = 2.3921151161193848\n",
      "Loss = 2.391916036605835\n",
      "Loss = 2.3917229175567627\n",
      "Loss = 2.3915343284606934\n"
     ]
    }
   ],
   "source": [
    "for k in range(10):\n",
    "    # forward pass\n",
    "    xenc = F.one_hot(xs, num_classes=27).float() # input to the network: one-hot encoding\n",
    "    logits = xenc @ W # predict log-counts\n",
    "    counts = logits.exp() # counts, equivalent to N\n",
    "    probs = counts / counts.sum(1, keepdims=True) # probabilities for next character\n",
    "    # btw: the last 2 lines here are together called a 'softmax'\n",
    "    nll = -probs[torch.arange(probs.shape[0]),ys].log().mean()  + 0.01*(W**2).mean() #also the loss, second term is regularization(pushing ws to 0)\n",
    "    print(f\"Loss = {nll.data}\")\n",
    "    \n",
    "    #backward pass\n",
    "    W.grad = None # set to zero the gradient\n",
    "    nll.backward()\n",
    "    W.data += -50*W.grad"
   ]
  },
  {
   "cell_type": "code",
   "execution_count": null,
   "id": "25e75a11-0bcd-4836-8c08-c8c7cccfa054",
   "metadata": {},
   "outputs": [],
   "source": []
  },
  {
   "cell_type": "code",
   "execution_count": null,
   "id": "b0e1401d-64c4-4d17-99be-42ccbbdd13ae",
   "metadata": {},
   "outputs": [],
   "source": []
  },
  {
   "cell_type": "code",
   "execution_count": null,
   "id": "6f668816-ff70-4644-9428-b8893ac784ee",
   "metadata": {},
   "outputs": [],
   "source": []
  },
  {
   "cell_type": "code",
   "execution_count": null,
   "id": "a3f6f511-ba1e-4029-9951-d6a4a9524eee",
   "metadata": {},
   "outputs": [],
   "source": []
  },
  {
   "cell_type": "code",
   "execution_count": 379,
   "id": "9b77f4d8-8bf3-4d63-adbc-9234146ab4b9",
   "metadata": {},
   "outputs": [
    {
     "name": "stdout",
     "output_type": "stream",
     "text": [
      "deeba\n",
      "momakuraropritahamem\n",
      "imjanainjakadk\n",
      "ka\n",
      "da\n",
      "samitabhjabhr\n",
      "gotashiszishanau\n",
      "ka\n",
      "teda\n",
      "ka\n"
     ]
    }
   ],
   "source": [
    "# finally, sample from the 'neural net' model after training Ws \n",
    "g = torch.Generator().manual_seed(2147483647)\n",
    "\n",
    "for i in range(10):\n",
    "    str_ = ''\n",
    "    ix = 0\n",
    "    while True:\n",
    "        # ----------\n",
    "        # BEFORE:\n",
    "        #p = probab_matrix[ix]\n",
    "        # ----------\n",
    "        # NOW:\n",
    "        xenc = F.one_hot(torch.tensor([ix]), num_classes=27).float()\n",
    "        logits = xenc @ W # predict log-counts\n",
    "        counts = logits.exp() # counts, equivalent to N\n",
    "        p = counts / counts.sum(1, keepdims=True) # probabilities for next character\n",
    "\n",
    "        ix = torch.multinomial(p, replacement = True,num_samples=1, generator = g).item()\n",
    "        if ix == 0:\n",
    "            break\n",
    "        str_= str_ + itos[ix]\n",
    "    print(str_)"
   ]
  },
  {
   "cell_type": "code",
   "execution_count": 380,
   "id": "ef67ce0e-aa0c-4c90-a4de-095a3e33b0d3",
   "metadata": {},
   "outputs": [
    {
     "name": "stdout",
     "output_type": "stream",
     "text": [
      "deeba\n",
      "momakuraropritahampanimjanainjakadk\n",
      "ka\n",
      "da\n",
      "samitabhjabhr\n",
      "gotashishishanau\n",
      "ka\n",
      "teda\n",
      "ka\n",
      "hakamsade\n"
     ]
    }
   ],
   "source": [
    "# finally, sample from the 'neural net' model after training Ws \n",
    "g = torch.Generator().manual_seed(2147483647)\n",
    "\n",
    "for i in range(10):\n",
    "    str_ = ''\n",
    "    ix = 0\n",
    "    while True:\n",
    "        # ----------\n",
    "        # BEFORE:\n",
    "        p = probab_matrix[ix]\n",
    "        # ----------\n",
    "        # NOW:\n",
    "        # xenc = F.one_hot(torch.tensor([ix]), num_classes=27).float()\n",
    "        # logits = xenc @ W # predict log-counts\n",
    "        # counts = logits.exp() # counts, equivalent to N\n",
    "        # p = counts / counts.sum(1, keepdims=True) # probabilities for next character\n",
    "\n",
    "        ix = torch.multinomial(p, replacement = True,num_samples=1, generator = g).item()\n",
    "        if ix == 0:\n",
    "            break\n",
    "        str_= str_ + itos[ix]\n",
    "    print(str_)"
   ]
  },
  {
   "cell_type": "code",
   "execution_count": null,
   "id": "82f06b98-64d0-49e1-b4e0-f788c6e2bf4f",
   "metadata": {},
   "outputs": [],
   "source": []
  }
 ],
 "metadata": {
  "kernelspec": {
   "display_name": "Python 3 (ipykernel)",
   "language": "python",
   "name": "python3"
  },
  "language_info": {
   "codemirror_mode": {
    "name": "ipython",
    "version": 3
   },
   "file_extension": ".py",
   "mimetype": "text/x-python",
   "name": "python",
   "nbconvert_exporter": "python",
   "pygments_lexer": "ipython3",
   "version": "3.9.6"
  }
 },
 "nbformat": 4,
 "nbformat_minor": 5
}
